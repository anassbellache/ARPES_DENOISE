{
 "cells": [
  {
   "cell_type": "code",
   "execution_count": 1,
   "metadata": {},
   "outputs": [],
   "source": [
    "import os\n",
    "import numpy as np\n",
    "import astra\n",
    "from arpys import dl, pp\n"
   ]
  },
  {
   "cell_type": "code",
   "execution_count": 2,
   "metadata": {},
   "outputs": [
    {
     "name": "stdout",
     "output_type": "stream",
     "text": [
      "[Dataloader CASSIOPEE] Loading from txt\n",
      "[arpys]Loaded data with <class Dataloader_CASSIOPEE>.\n",
      "[Dataloader CASSIOPEE] Loading from txt\n",
      "[arpys]Loaded data with <class Dataloader_CASSIOPEE>.\n",
      "[Dataloader CASSIOPEE] Loading from txt\n",
      "[arpys]Loaded data with <class Dataloader_CASSIOPEE>.\n",
      "[Dataloader CASSIOPEE] Loading from txt\n",
      "[arpys]Loaded data with <class Dataloader_CASSIOPEE>.\n",
      "[Dataloader CASSIOPEE] Loading from txt\n",
      "[arpys]Loaded data with <class Dataloader_CASSIOPEE>.\n",
      "[Dataloader CASSIOPEE] Loading from txt\n",
      "[arpys]Loaded data with <class Dataloader_CASSIOPEE>.\n",
      "[Dataloader CASSIOPEE] Loading from txt\n",
      "[arpys]Loaded data with <class Dataloader_CASSIOPEE>.\n",
      "[Dataloader CASSIOPEE] Loading from txt\n",
      "[arpys]Loaded data with <class Dataloader_CASSIOPEE>.\n",
      "[Dataloader CASSIOPEE] Loading from txt\n",
      "[arpys]Loaded data with <class Dataloader_CASSIOPEE>.\n",
      "[Dataloader CASSIOPEE] Loading from txt\n",
      "[arpys]Loaded data with <class Dataloader_CASSIOPEE>.\n",
      "[Dataloader CASSIOPEE] Loading from txt\n",
      "[arpys]Loaded data with <class Dataloader_CASSIOPEE>.\n",
      "[Dataloader CASSIOPEE] Loading from txt\n",
      "[arpys]Loaded data with <class Dataloader_CASSIOPEE>.\n",
      "[Dataloader CASSIOPEE] Loading from txt\n",
      "[arpys]Loaded data with <class Dataloader_CASSIOPEE>.\n",
      "[Dataloader CASSIOPEE] Loading from txt\n",
      "[arpys]Loaded data with <class Dataloader_CASSIOPEE>.\n",
      "[Dataloader CASSIOPEE] Loading from txt\n",
      "[arpys]Loaded data with <class Dataloader_CASSIOPEE>.\n",
      "[Dataloader CASSIOPEE] Loading from txt\n",
      "[arpys]Loaded data with <class Dataloader_CASSIOPEE>.\n",
      "[Dataloader CASSIOPEE] Loading from txt\n",
      "[arpys]Loaded data with <class Dataloader_CASSIOPEE>.\n",
      "[Dataloader CASSIOPEE] Loading from txt\n",
      "[arpys]Loaded data with <class Dataloader_CASSIOPEE>.\n",
      "[Dataloader CASSIOPEE] Loading from txt\n",
      "[arpys]Loaded data with <class Dataloader_CASSIOPEE>.\n",
      "[Dataloader CASSIOPEE] Loading from txt\n",
      "[arpys]Loaded data with <class Dataloader_CASSIOPEE>.\n",
      "[Dataloader CASSIOPEE] Loading from txt\n",
      "[arpys]Loaded data with <class Dataloader_CASSIOPEE>.\n",
      "[Dataloader CASSIOPEE] Loading from txt\n",
      "[arpys]Loaded data with <class Dataloader_CASSIOPEE>.\n",
      "[Dataloader CASSIOPEE] Loading from txt\n",
      "[arpys]Loaded data with <class Dataloader_CASSIOPEE>.\n",
      "[Dataloader CASSIOPEE] Loading from txt\n",
      "[arpys]Loaded data with <class Dataloader_CASSIOPEE>.\n",
      "[Dataloader CASSIOPEE] Loading from txt\n",
      "[arpys]Loaded data with <class Dataloader_CASSIOPEE>.\n",
      "[Dataloader CASSIOPEE] Loading from txt\n",
      "[arpys]Loaded data with <class Dataloader_CASSIOPEE>.\n",
      "[Dataloader CASSIOPEE] Loading from txt\n",
      "[arpys]Loaded data with <class Dataloader_CASSIOPEE>.\n",
      "[Dataloader CASSIOPEE] Loading from txt\n",
      "[arpys]Loaded data with <class Dataloader_CASSIOPEE>.\n",
      "[Dataloader CASSIOPEE] Loading from txt\n",
      "[arpys]Loaded data with <class Dataloader_CASSIOPEE>.\n",
      "[Dataloader CASSIOPEE] Loading from txt\n",
      "[arpys]Loaded data with <class Dataloader_CASSIOPEE>.\n",
      "[Dataloader CASSIOPEE] Loading from txt\n",
      "[arpys]Loaded data with <class Dataloader_CASSIOPEE>.\n",
      "[Dataloader CASSIOPEE] Loading from txt\n",
      "[arpys]Loaded data with <class Dataloader_CASSIOPEE>.\n",
      "[Dataloader CASSIOPEE] Loading from txt\n",
      "[arpys]Loaded data with <class Dataloader_CASSIOPEE>.\n",
      "[Dataloader CASSIOPEE] Loading from txt\n",
      "[arpys]Loaded data with <class Dataloader_CASSIOPEE>.\n",
      "[Dataloader CASSIOPEE] Loading from txt\n",
      "[arpys]Loaded data with <class Dataloader_CASSIOPEE>.\n",
      "[Dataloader CASSIOPEE] Loading from txt\n",
      "[arpys]Loaded data with <class Dataloader_CASSIOPEE>.\n",
      "[Dataloader CASSIOPEE] Loading from txt\n",
      "[arpys]Loaded data with <class Dataloader_CASSIOPEE>.\n",
      "[Dataloader CASSIOPEE] Loading from txt\n",
      "[arpys]Loaded data with <class Dataloader_CASSIOPEE>.\n",
      "[Dataloader CASSIOPEE] Loading from txt\n",
      "[arpys]Loaded data with <class Dataloader_CASSIOPEE>.\n",
      "[Dataloader CASSIOPEE] Loading from txt\n",
      "[arpys]Loaded data with <class Dataloader_CASSIOPEE>.\n",
      "[Dataloader CASSIOPEE] Loading from txt\n",
      "[arpys]Loaded data with <class Dataloader_CASSIOPEE>.\n",
      "[Dataloader CASSIOPEE] Loading from txt\n",
      "[arpys]Loaded data with <class Dataloader_CASSIOPEE>.\n",
      "[Dataloader CASSIOPEE] Loading from txt\n",
      "[arpys]Loaded data with <class Dataloader_CASSIOPEE>.\n",
      "[Dataloader CASSIOPEE] Loading from txt\n",
      "[arpys]Loaded data with <class Dataloader_CASSIOPEE>.\n",
      "[Dataloader CASSIOPEE] Loading from txt\n",
      "[arpys]Loaded data with <class Dataloader_CASSIOPEE>.\n",
      "[Dataloader CASSIOPEE] Loading from txt\n",
      "[arpys]Loaded data with <class Dataloader_CASSIOPEE>.\n",
      "[Dataloader CASSIOPEE] Loading from txt\n",
      "[arpys]Loaded data with <class Dataloader_CASSIOPEE>.\n",
      "[Dataloader CASSIOPEE] Loading from txt\n",
      "[arpys]Loaded data with <class Dataloader_CASSIOPEE>.\n",
      "[Dataloader CASSIOPEE] Loading from txt\n",
      "[arpys]Loaded data with <class Dataloader_CASSIOPEE>.\n",
      "[Dataloader CASSIOPEE] Loading from txt\n",
      "[arpys]Loaded data with <class Dataloader_CASSIOPEE>.\n",
      "[Dataloader CASSIOPEE] Loading from txt\n",
      "[arpys]Loaded data with <class Dataloader_CASSIOPEE>.\n",
      "[Dataloader CASSIOPEE] Loading from txt\n",
      "[arpys]Loaded data with <class Dataloader_CASSIOPEE>.\n",
      "[Dataloader CASSIOPEE] Loading from txt\n",
      "[arpys]Loaded data with <class Dataloader_CASSIOPEE>.\n",
      "[Dataloader CASSIOPEE] Loading from txt\n",
      "[arpys]Loaded data with <class Dataloader_CASSIOPEE>.\n",
      "[Dataloader CASSIOPEE] Loading from txt\n",
      "[arpys]Loaded data with <class Dataloader_CASSIOPEE>.\n",
      "[Dataloader CASSIOPEE] Loading from txt\n",
      "[arpys]Loaded data with <class Dataloader_CASSIOPEE>.\n",
      "[Dataloader CASSIOPEE] Loading from txt\n",
      "[arpys]Loaded data with <class Dataloader_CASSIOPEE>.\n",
      "[Dataloader CASSIOPEE] Loading from txt\n",
      "[arpys]Loaded data with <class Dataloader_CASSIOPEE>.\n",
      "[Dataloader CASSIOPEE] Loading from txt\n",
      "[arpys]Loaded data with <class Dataloader_CASSIOPEE>.\n",
      "[Dataloader CASSIOPEE] Loading from txt\n",
      "[arpys]Loaded data with <class Dataloader_CASSIOPEE>.\n",
      "[Dataloader CASSIOPEE] Loading from txt\n",
      "[arpys]Loaded data with <class Dataloader_CASSIOPEE>.\n",
      "[Dataloader CASSIOPEE] Loading from txt\n",
      "[arpys]Loaded data with <class Dataloader_CASSIOPEE>.\n",
      "[Dataloader CASSIOPEE] Loading from txt\n",
      "[arpys]Loaded data with <class Dataloader_CASSIOPEE>.\n",
      "[Dataloader CASSIOPEE] Loading from txt\n",
      "[arpys]Loaded data with <class Dataloader_CASSIOPEE>.\n",
      "[Dataloader CASSIOPEE] Loading from txt\n",
      "[arpys]Loaded data with <class Dataloader_CASSIOPEE>.\n",
      "[Dataloader CASSIOPEE] Loading from txt\n",
      "[arpys]Loaded data with <class Dataloader_CASSIOPEE>.\n",
      "[Dataloader CASSIOPEE] Loading from txt\n",
      "[arpys]Loaded data with <class Dataloader_CASSIOPEE>.\n",
      "[Dataloader CASSIOPEE] Loading from txt\n",
      "[arpys]Loaded data with <class Dataloader_CASSIOPEE>.\n",
      "[Dataloader CASSIOPEE] Loading from txt\n",
      "[arpys]Loaded data with <class Dataloader_CASSIOPEE>.\n",
      "[Dataloader CASSIOPEE] Loading from txt\n",
      "[arpys]Loaded data with <class Dataloader_CASSIOPEE>.\n",
      "[Dataloader CASSIOPEE] Loading from txt\n",
      "[arpys]Loaded data with <class Dataloader_CASSIOPEE>.\n",
      "[Dataloader CASSIOPEE] Loading from txt\n",
      "[arpys]Loaded data with <class Dataloader_CASSIOPEE>.\n",
      "[Dataloader CASSIOPEE] Loading from txt\n",
      "[arpys]Loaded data with <class Dataloader_CASSIOPEE>.\n",
      "[Dataloader CASSIOPEE] Loading from txt\n",
      "[arpys]Loaded data with <class Dataloader_CASSIOPEE>.\n",
      "[Dataloader CASSIOPEE] Loading from txt\n",
      "[arpys]Loaded data with <class Dataloader_CASSIOPEE>.\n",
      "[Dataloader CASSIOPEE] Loading from txt\n",
      "[arpys]Loaded data with <class Dataloader_CASSIOPEE>.\n",
      "[Dataloader CASSIOPEE] Loading from txt\n",
      "[arpys]Loaded data with <class Dataloader_CASSIOPEE>.\n",
      "[Dataloader CASSIOPEE] Loading from txt\n",
      "[arpys]Loaded data with <class Dataloader_CASSIOPEE>.\n",
      "[Dataloader CASSIOPEE] Loading from txt\n",
      "[arpys]Loaded data with <class Dataloader_CASSIOPEE>.\n",
      "[Dataloader CASSIOPEE] Loading from txt\n",
      "[arpys]Loaded data with <class Dataloader_CASSIOPEE>.\n",
      "[Dataloader CASSIOPEE] Loading from txt\n",
      "[arpys]Loaded data with <class Dataloader_CASSIOPEE>.\n",
      "[Dataloader CASSIOPEE] Loading from txt\n",
      "[arpys]Loaded data with <class Dataloader_CASSIOPEE>.\n",
      "[Dataloader CASSIOPEE] Loading from txt\n",
      "[arpys]Loaded data with <class Dataloader_CASSIOPEE>.\n",
      "[Dataloader CASSIOPEE] Loading from txt\n",
      "[arpys]Loaded data with <class Dataloader_CASSIOPEE>.\n",
      "[Dataloader CASSIOPEE] Loading from txt\n",
      "[arpys]Loaded data with <class Dataloader_CASSIOPEE>.\n",
      "[Dataloader CASSIOPEE] Loading from txt\n",
      "[arpys]Loaded data with <class Dataloader_CASSIOPEE>.\n"
     ]
    }
   ],
   "source": [
    "paths = \"./Cu111_LH19/\"\n",
    "\n",
    "files = [f for f in os.listdir(paths) if os.path.isfile(os.path.join(paths, f))]\n",
    "files.sort()\n",
    "files = files[::2]\n",
    "data = []\n",
    "for f in files:\n",
    "    D = dl.load_data(os.path.join(paths, f))\n",
    "    data.append(D.data[0])\n",
    "\n",
    "data = np.array(data)"
   ]
  },
  {
   "cell_type": "code",
   "execution_count": 3,
   "metadata": {},
   "outputs": [
    {
     "data": {
      "text/plain": [
       "(86, 121, 595)"
      ]
     },
     "execution_count": 3,
     "metadata": {},
     "output_type": "execute_result"
    }
   ],
   "source": [
    "data.shape"
   ]
  },
  {
   "cell_type": "code",
   "execution_count": 4,
   "metadata": {},
   "outputs": [],
   "source": [
    "noise = astra.add_noise_to_sino(data[0,:,:], 1e3)"
   ]
  },
  {
   "cell_type": "code",
   "execution_count": 5,
   "metadata": {},
   "outputs": [],
   "source": [
    "expansion_factor = 50"
   ]
  },
  {
   "cell_type": "code",
   "execution_count": 6,
   "metadata": {},
   "outputs": [],
   "source": [
    "train_noise = np.zeros((data.shape[0]*expansion_factor, data.shape[1], data.shape[2]))\n",
    "train_data = np.zeros((data.shape[0]*expansion_factor, data.shape[1], data.shape[2]))\n",
    "\n",
    "for i in range(data.shape[0]):\n",
    "    for j in range(expansion_factor):\n",
    "        train_noise[i*(j+1),:,:] = astra.add_noise_to_sino(data[i,:,:], 1e3)\n",
    "        train_data[i*(j+1),:,:] = data[i,:,:]"
   ]
  },
  {
   "cell_type": "code",
   "execution_count": null,
   "metadata": {},
   "outputs": [],
   "source": []
  },
  {
   "cell_type": "code",
   "execution_count": 7,
   "metadata": {},
   "outputs": [
    {
     "data": {
      "text/plain": [
       "(4300, 121, 595)"
      ]
     },
     "execution_count": 7,
     "metadata": {},
     "output_type": "execute_result"
    }
   ],
   "source": [
    "train_noise.shape"
   ]
  },
  {
   "cell_type": "code",
   "execution_count": 8,
   "metadata": {},
   "outputs": [
    {
     "data": {
      "text/plain": [
       "(4300, 121, 595)"
      ]
     },
     "execution_count": 8,
     "metadata": {},
     "output_type": "execute_result"
    }
   ],
   "source": [
    "train_data.shape"
   ]
  },
  {
   "cell_type": "code",
   "execution_count": 9,
   "metadata": {},
   "outputs": [],
   "source": [
    "import matplotlib.pyplot as plt"
   ]
  },
  {
   "cell_type": "code",
   "execution_count": 10,
   "metadata": {},
   "outputs": [
    {
     "ename": "IndexError",
     "evalue": "too many indices for array: array is 2-dimensional, but 3 were indexed",
     "output_type": "error",
     "traceback": [
      "\u001b[0;31m---------------------------------------------------------------------------\u001b[0m",
      "\u001b[0;31mIndexError\u001b[0m                                Traceback (most recent call last)",
      "\u001b[0;32m<ipython-input-10-c3838542c3df>\u001b[0m in \u001b[0;36m<module>\u001b[0;34m()\u001b[0m\n\u001b[0;32m----> 1\u001b[0;31m \u001b[0mplt\u001b[0m\u001b[0;34m.\u001b[0m\u001b[0mimshow\u001b[0m\u001b[0;34m(\u001b[0m\u001b[0mnoise\u001b[0m\u001b[0;34m[\u001b[0m\u001b[0;36m48\u001b[0m\u001b[0;34m,\u001b[0m\u001b[0;34m:\u001b[0m\u001b[0;34m,\u001b[0m\u001b[0;34m:\u001b[0m\u001b[0;34m]\u001b[0m\u001b[0;34m)\u001b[0m\u001b[0;34m\u001b[0m\u001b[0;34m\u001b[0m\u001b[0m\n\u001b[0m",
      "\u001b[0;31mIndexError\u001b[0m: too many indices for array: array is 2-dimensional, but 3 were indexed"
     ]
    }
   ],
   "source": [
    "plt.imshow(noise[48,:,:])"
   ]
  },
  {
   "cell_type": "code",
   "execution_count": 11,
   "metadata": {},
   "outputs": [
    {
     "data": {
      "text/plain": [
       "<matplotlib.image.AxesImage at 0x7f60106e8588>"
      ]
     },
     "execution_count": 11,
     "metadata": {},
     "output_type": "execute_result"
    },
    {
     "data": {
      "image/png": "[encoded data removed]",
      "text/plain": [
       "<Figure size 432x288 with 1 Axes>"
      ]
     },
     "metadata": {
      "needs_background": "light"
     },
     "output_type": "display_data"
    }
   ],
   "source": [
    "plt.imshow(data[48,:,:])"
   ]
  },
  {
   "cell_type": "code",
   "execution_count": 13,
   "metadata": {},
   "outputs": [
    {
     "data": {
      "text/plain": [
       "3225.0"
      ]
     },
     "execution_count": 13,
     "metadata": {},
     "output_type": "execute_result"
    }
   ],
   "source": [
    "4300*0.75"
   ]
  },
  {
   "cell_type": "code",
   "execution_count": 14,
   "metadata": {},
   "outputs": [],
   "source": [
    "np.save('train_noise.npy', train_noise[0:3225,:,:])"
   ]
  },
  {
   "cell_type": "code",
   "execution_count": 15,
   "metadata": {},
   "outputs": [],
   "source": [
    "np.save('train_data.npy', train_data[0:3225,:,:])"
   ]
  },
  {
   "cell_type": "code",
   "execution_count": null,
   "metadata": {},
   "outputs": [],
   "source": []
  },
  {
   "cell_type": "code",
   "execution_count": 16,
   "metadata": {},
   "outputs": [],
   "source": [
    "np.save('validation_noise.npy', train_noise[3225:,:,:])"
   ]
  },
  {
   "cell_type": "code",
   "execution_count": 17,
   "metadata": {},
   "outputs": [],
   "source": [
    "np.save('validation_data.npy', train_data[3225:,:,:])"
   ]
  },
  {
   "cell_type": "code",
   "execution_count": null,
   "metadata": {},
   "outputs": [],
   "source": []
  },
  {
   "cell_type": "code",
   "execution_count": null,
   "metadata": {},
   "outputs": [],
   "source": []
  }
 ],
 "metadata": {
  "kernelspec": {
   "display_name": "Python 3",
   "language": "python",
   "name": "python3"
  },
  "language_info": {
   "codemirror_mode": {
    "name": "ipython",
    "version": 3
   },
   "file_extension": ".py",
   "mimetype": "text/x-python",
   "name": "python",
   "nbconvert_exporter": "python",
   "pygments_lexer": "ipython3",
   "version": "3.7.3"
  }
 },
 "nbformat": 4,
 "nbformat_minor": 4
}
